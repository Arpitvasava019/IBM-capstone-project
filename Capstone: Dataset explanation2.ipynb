{
    "nbformat_minor": 1, 
    "cells": [
        {
            "source": "# IBM capstone project:\n\n## Introduction:-", 
            "cell_type": "markdown", 
            "metadata": {
                "collapsed": true
            }
        }, 
        {
            "source": "#### As a part of 'IBM datascience capstone project' we have to show our skills bast on what we learned.\n#### Here, i am presenting you the objectives of final project, business problem and data explanation. I will you foursquare API and data along with other datasets.", 
            "cell_type": "markdown", 
            "metadata": {}
        }, 
        {
            "source": "", 
            "cell_type": "code", 
            "metadata": {}, 
            "outputs": [], 
            "execution_count": null
        }, 
        {
            "source": "", 
            "cell_type": "markdown", 
            "metadata": {}
        }, 
        {
            "source": "\n", 
            "cell_type": "markdown", 
            "metadata": {}
        }, 
        {
            "source": "", 
            "cell_type": "code", 
            "metadata": {}, 
            "outputs": [], 
            "execution_count": null
        }, 
        {
            "source": "# Business Problem and Background", 
            "cell_type": "markdown", 
            "metadata": {}
        }, 
        {
            "source": "## PROBLEM : ", 
            "cell_type": "markdown", 
            "metadata": {}
        }, 
        {
            "source": "### Anticipation of a Restaurant, Close to office area in Toronto.", 
            "cell_type": "markdown", 
            "metadata": {}
        }, 
        {
            "source": "Toronto, Which is considered as one of the most popular state in Canada. Toronto is also very femous among tourist with 251 million visitors in year 2014.Visitors spent $117.5 billion in the state for food and other activities. Aside from tourist, Toronto is also a hub of giant offices. With this type of popularity it is hard to fine a place to open restaurant with low market compitation and high profit.I will use data science tactics to find better and profitable place to open restaurant. We will go through each step of this project and address them separately. For this week I just describe the initial data preparation and future steps to start the battle of neighborhoods in Toronto.", 
            "cell_type": "markdown", 
            "metadata": {}
        }, 
        {
            "source": "", 
            "cell_type": "code", 
            "metadata": {}, 
            "outputs": [], 
            "execution_count": null
        }, 
        {
            "source": "# DataSet Explanation :", 
            "cell_type": "markdown", 
            "metadata": {}
        }, 
        {
            "source": "I will be using data from wikipedia page 'https://en.wikipedia.org/wiki/List_of_postal_codes_of_Canada:_M'. I will use Beautifulsoup and request method to extract data from wikipedia. \nThe table consist of 7 columns.\n{\nPostcode,Borough,Neighbourhood\n}\nI will also use geolocation when needed. I will use foursquare for map data and will use it to visualisation and analysis.", 
            "cell_type": "markdown", 
            "metadata": {}
        }, 
        {
            "source": "\nthis is the explanation of my dataset. ", 
            "cell_type": "markdown", 
            "metadata": {}
        }, 
        {
            "source": "", 
            "cell_type": "code", 
            "metadata": {}, 
            "outputs": [], 
            "execution_count": null
        }
    ], 
    "metadata": {
        "kernelspec": {
            "display_name": "Python 3.5", 
            "name": "python3", 
            "language": "python"
        }, 
        "language_info": {
            "mimetype": "text/x-python", 
            "nbconvert_exporter": "python", 
            "version": "3.5.5", 
            "name": "python", 
            "pygments_lexer": "ipython3", 
            "file_extension": ".py", 
            "codemirror_mode": {
                "version": 3, 
                "name": "ipython"
            }
        }
    }, 
    "nbformat": 4
}