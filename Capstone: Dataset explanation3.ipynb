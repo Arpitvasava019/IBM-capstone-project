{
    "nbformat_minor": 1, 
    "cells": [
        {
            "source": "# IBM capstone project:\n\n## Introduction:-", 
            "cell_type": "markdown", 
            "metadata": {
                "collapsed": true
            }
        }, 
        {
            "source": "#### As a part of 'IBM datascience capstone project' we have to show our skills bast on what we learned.\n#### Here, i am presenting you the objectives of final project, business problem and data explanation. I will you foursquare API and data along with other datasets.", 
            "cell_type": "markdown", 
            "metadata": {}
        }, 
        {
            "source": "", 
            "cell_type": "code", 
            "metadata": {}, 
            "outputs": [], 
            "execution_count": null
        }, 
        {
            "source": "", 
            "cell_type": "markdown", 
            "metadata": {}
        }, 
        {
            "source": "\n", 
            "cell_type": "markdown", 
            "metadata": {}
        }, 
        {
            "source": "", 
            "cell_type": "code", 
            "metadata": {}, 
            "outputs": [], 
            "execution_count": null
        }, 
        {
            "source": "# Business Problem and Background", 
            "cell_type": "markdown", 
            "metadata": {}
        }, 
        {
            "source": "## PROBLEM : ", 
            "cell_type": "markdown", 
            "metadata": {}
        }, 
        {
            "source": "### Anticipation of a Farmers market  in Newyork .", 
            "cell_type": "markdown", 
            "metadata": {}
        }, 
        {
            "source": "Newyork, Which is considered as one of the most popular state in Canada. Toronto is also very femous among tourist with 251 million visitors in year 2014.Visitors spent $117.5 billion in the state for food and other activities. Aside from tourist, Toronto is also a hub of giant offices. With this type of popularity it is hard to find food and place to sell it.I will use data science tactics to find better and profitable place to sell farming vegies. We will go through each step of this project and address them separately. For this week I just describe the initial data preparation and future steps to start the battle of neighborhoods in Newyork.", 
            "cell_type": "markdown", 
            "metadata": {}
        }, 
        {
            "source": "", 
            "cell_type": "code", 
            "metadata": {}, 
            "outputs": [], 
            "execution_count": null
        }, 
        {
            "source": "# DataSet Explanation :", 
            "cell_type": "markdown", 
            "metadata": {}
        }, 
        {
            "source": "I will be using data from webpage 'https://query.data.world/s/c2nm5gs6r2exf2qt2hpneqxax7oxhe'. I will use Pandas library from python to store dat in data frame. \nThe table consist of 11 columns.\n{FacilityName ,\tService Category ,\tService Type ,\tAddress , Address 2 , Borough ,\tZipCode\t, Latitude , Longitude , AdditionalInfo , StartDate\n}\nI will also use geolocation when needed. I will use foursquare for map data and will use it to visualisation and analysis.\nI will also use seaborn, matplotlib for data visualisation.", 
            "cell_type": "markdown", 
            "metadata": {}
        }, 
        {
            "source": "\nthis is the explanation of my dataset. ", 
            "cell_type": "markdown", 
            "metadata": {}
        }, 
        {
            "source": "", 
            "cell_type": "code", 
            "metadata": {}, 
            "outputs": [], 
            "execution_count": null
        }
    ], 
    "metadata": {
        "kernelspec": {
            "display_name": "Python 3.5", 
            "name": "python3", 
            "language": "python"
        }, 
        "language_info": {
            "mimetype": "text/x-python", 
            "nbconvert_exporter": "python", 
            "version": "3.5.5", 
            "name": "python", 
            "file_extension": ".py", 
            "pygments_lexer": "ipython3", 
            "codemirror_mode": {
                "version": 3, 
                "name": "ipython"
            }
        }
    }, 
    "nbformat": 4
}